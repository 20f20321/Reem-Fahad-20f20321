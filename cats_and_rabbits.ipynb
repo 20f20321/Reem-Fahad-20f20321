{
  "nbformat": 4,
  "nbformat_minor": 0,
  "metadata": {
    "colab": {
      "provenance": []
    },
    "kernelspec": {
      "name": "python3",
      "display_name": "Python 3"
    },
    "language_info": {
      "name": "python"
    }
  },
  "cells": [
    {
      "cell_type": "code",
      "execution_count": 1,
      "metadata": {
        "colab": {
          "base_uri": "https://localhost:8080/"
        },
        "id": "juL_G-Lf81Ws",
        "outputId": "ea372372-8abb-47ac-f0e7-275d3d1eae09"
      },
      "outputs": [
        {
          "output_type": "stream",
          "name": "stdout",
          "text": [
            "Mounted at /content/drive\n"
          ]
        }
      ],
      "source": [
        "#My dataset is available in googledrive; so I am accessing my drive from colab\n",
        "from google.colab import drive\n",
        "drive.mount('/content/drive', force_remount=True)\n",
        "#Once this is executed, you will see your drive appearing on the left hand side"
      ]
    },
    {
      "cell_type": "code",
      "source": [
        "# Define paths to the dataset\n",
        "train_dir = '//content/drive/MyDrive/train-cat-rabbit'  # Update with your actual path\n",
        "test_dir = '//content/drive/MyDrive/test-images'    # Update with your actual path"
      ],
      "metadata": {
        "id": "nDn6DQuC-6EV"
      },
      "execution_count": 4,
      "outputs": []
    },
    {
      "cell_type": "code",
      "source": [
        "import os\n",
        "print(len(os.listdir('//content/drive/MyDrive/train-cat-rabbit/cat')))\n",
        "print(len(os.listdir('//content/drive/MyDrive/train-cat-rabbit/rabbit')))\n",
        "print(len(os.listdir('//content/drive/MyDrive/test-images/cat')))\n",
        "print(len(os.listdir('//content/drive/MyDrive/test-images/rabbit')))"
      ],
      "metadata": {
        "colab": {
          "base_uri": "https://localhost:8080/"
        },
        "id": "XNlF6jFAFDsT",
        "outputId": "be0ebcdd-1ee4-4856-89c8-051bfe93759a"
      },
      "execution_count": 5,
      "outputs": [
        {
          "output_type": "stream",
          "name": "stdout",
          "text": [
            "800\n",
            "800\n",
            "10\n",
            "5\n"
          ]
        }
      ]
    },
    {
      "cell_type": "code",
      "source": [],
      "metadata": {
        "id": "CUa5X6w7x0k8"
      },
      "execution_count": null,
      "outputs": []
    },
    {
      "cell_type": "code",
      "source": [
        "import tensorflow as tf\n",
        "from tensorflow.keras.preprocessing.image import ImageDataGenerator\n",
        "\n",
        "# Create ImageDataGenerator for training set\n",
        "train_datagen = ImageDataGenerator(\n",
        "    rescale=1./255,\n",
        "    validation_split=0.2  # Split 20% of the images for validation\n",
        ")\n",
        "\n",
        "# Load and prepare training data\n",
        "train_data = train_datagen.flow_from_directory(\n",
        "    train_dir,\n",
        "    target_size=(256,256),\n",
        "    batch_size=32,\n",
        "    class_mode='binary',  # 'binary' for binary classification (cats vs. rabbits)\n",
        "    subset='training'  # Specify 'training' for the training set\n",
        ")\n",
        "\n",
        "# Create ImageDataGenerator for validation set\n",
        "validation_datagen = ImageDataGenerator(\n",
        "    rescale=1./255,\n",
        "    validation_split=0.2  # Note: Using the same validation split as in the training set\n",
        ")\n",
        "\n",
        "# Load and prepare validation data\n",
        "validation_data = validation_datagen.flow_from_directory(\n",
        "    train_dir,\n",
        "    target_size=(256,256),\n",
        "    batch_size=32,\n",
        "    class_mode='binary',\n",
        "    subset='validation'  # Specify 'validation' for the validation set\n",
        ")"
      ],
      "metadata": {
        "colab": {
          "base_uri": "https://localhost:8080/"
        },
        "id": "AlUmWP7ZFd6i",
        "outputId": "600a24ae-5b44-4110-ab4a-7195ee182fca"
      },
      "execution_count": 6,
      "outputs": [
        {
          "output_type": "stream",
          "name": "stdout",
          "text": [
            "Found 1280 images belonging to 2 classes.\n",
            "Found 320 images belonging to 2 classes.\n"
          ]
        }
      ]
    },
    {
      "cell_type": "code",
      "source": [
        "from tensorflow import keras\n",
        "from keras import Sequential\n",
        "from keras.layers import Dense,Conv2D,MaxPooling2D,Flatten,BatchNormalization,UpSampling2D, Dropout"
      ],
      "metadata": {
        "id": "kqCR-J1RF31y"
      },
      "execution_count": 7,
      "outputs": []
    },
    {
      "cell_type": "code",
      "source": [
        "# create CNN model\n",
        "\n",
        "model = Sequential()\n",
        "\n",
        "model.add(Conv2D(32,kernel_size=(3,3),padding='valid',activation='relu',input_shape=(256,256,3)))  # 32 filters\n",
        "#model.add(BatchNormalization())  # added to reduce overfitting\n",
        "model.add(MaxPooling2D(pool_size=(2,2),strides=2,padding='valid'))\n",
        "\n",
        "model.add(Conv2D(64,kernel_size=(3,3),padding='valid',activation='relu'))\n",
        "#model.add(BatchNormalization())  # added to reduce overfitting\n",
        "model.add(MaxPooling2D(pool_size=(2,2),strides=2,padding='valid'))\n",
        "\n",
        "model.add(Conv2D(128,kernel_size=(3,3),padding='valid',activation='relu'))\n",
        "#model.add(BatchNormalization())  # added to reduce overfitting\n",
        "model.add(MaxPooling2D(pool_size=(2,2),strides=2,padding='valid'))\n",
        "\n",
        "model.add(Flatten())\n",
        "\n",
        "model.add(Dense(128,activation='relu')) #feature reduction\n",
        "#model.add(Dropout(0.1))  # added to reduce overfitting\n",
        "model.add(Dense(64,activation='relu'))\n",
        "#model.add(Dropout(0.1))  # added to reduce overfitting\n",
        "model.add(Dense(1,activation='sigmoid'))  #output layer"
      ],
      "metadata": {
        "id": "N5V16VTbF9lR"
      },
      "execution_count": 8,
      "outputs": []
    },
    {
      "cell_type": "code",
      "source": [
        "from keras.optimizers import Adam\n",
        "model.compile(optimizer=Adam(learning_rate=0.001),loss='binary_crossentropy',metrics=['accuracy']) #binary_crossentropy - binary classification"
      ],
      "metadata": {
        "id": "L1JLPV0fGNuh"
      },
      "execution_count": 10,
      "outputs": []
    },
    {
      "cell_type": "code",
      "source": [
        "history = model.fit(train_data, epochs=30, validation_data=validation_data)"
      ],
      "metadata": {
        "colab": {
          "base_uri": "https://localhost:8080/"
        },
        "id": "anbiB-iOGYnx",
        "outputId": "4da4d36f-6ceb-417c-e69e-ca17cb901847"
      },
      "execution_count": 11,
      "outputs": [
        {
          "output_type": "stream",
          "name": "stdout",
          "text": [
            "Epoch 1/30\n",
            "40/40 [==============================] - 491s 12s/step - loss: 0.7074 - accuracy: 0.6133 - val_loss: 0.6176 - val_accuracy: 0.6812\n",
            "Epoch 2/30\n",
            "40/40 [==============================] - 224s 6s/step - loss: 0.5303 - accuracy: 0.7422 - val_loss: 0.4519 - val_accuracy: 0.8031\n",
            "Epoch 3/30\n",
            "40/40 [==============================] - 216s 5s/step - loss: 0.3528 - accuracy: 0.8477 - val_loss: 0.3641 - val_accuracy: 0.8156\n",
            "Epoch 4/30\n",
            "40/40 [==============================] - 218s 5s/step - loss: 0.2249 - accuracy: 0.9039 - val_loss: 0.2828 - val_accuracy: 0.8813\n",
            "Epoch 5/30\n",
            "40/40 [==============================] - 227s 6s/step - loss: 0.1348 - accuracy: 0.9570 - val_loss: 0.3468 - val_accuracy: 0.8719\n",
            "Epoch 6/30\n",
            "40/40 [==============================] - 214s 5s/step - loss: 0.1283 - accuracy: 0.9469 - val_loss: 0.3296 - val_accuracy: 0.8687\n",
            "Epoch 7/30\n",
            "40/40 [==============================] - 214s 5s/step - loss: 0.0547 - accuracy: 0.9781 - val_loss: 0.3622 - val_accuracy: 0.9000\n",
            "Epoch 8/30\n",
            "40/40 [==============================] - 221s 6s/step - loss: 0.0358 - accuracy: 0.9875 - val_loss: 0.4643 - val_accuracy: 0.9125\n",
            "Epoch 9/30\n",
            "40/40 [==============================] - 215s 5s/step - loss: 0.0108 - accuracy: 0.9969 - val_loss: 0.4576 - val_accuracy: 0.9219\n",
            "Epoch 10/30\n",
            "40/40 [==============================] - 212s 5s/step - loss: 0.0056 - accuracy: 0.9984 - val_loss: 0.5105 - val_accuracy: 0.8750\n",
            "Epoch 11/30\n",
            "40/40 [==============================] - 220s 5s/step - loss: 0.0185 - accuracy: 0.9953 - val_loss: 0.4462 - val_accuracy: 0.9000\n",
            "Epoch 12/30\n",
            "40/40 [==============================] - 215s 5s/step - loss: 0.0300 - accuracy: 0.9898 - val_loss: 0.4468 - val_accuracy: 0.8875\n",
            "Epoch 13/30\n",
            "40/40 [==============================] - 217s 5s/step - loss: 0.0289 - accuracy: 0.9898 - val_loss: 0.4499 - val_accuracy: 0.8906\n",
            "Epoch 14/30\n",
            "40/40 [==============================] - 212s 5s/step - loss: 0.0373 - accuracy: 0.9898 - val_loss: 0.4428 - val_accuracy: 0.9187\n",
            "Epoch 15/30\n",
            "40/40 [==============================] - 211s 5s/step - loss: 0.0993 - accuracy: 0.9750 - val_loss: 0.3152 - val_accuracy: 0.9031\n",
            "Epoch 16/30\n",
            "40/40 [==============================] - 213s 5s/step - loss: 0.0176 - accuracy: 0.9945 - val_loss: 0.4379 - val_accuracy: 0.8938\n",
            "Epoch 17/30\n",
            "40/40 [==============================] - 215s 5s/step - loss: 0.0055 - accuracy: 0.9984 - val_loss: 0.5239 - val_accuracy: 0.8875\n",
            "Epoch 18/30\n",
            "40/40 [==============================] - 211s 5s/step - loss: 0.0143 - accuracy: 0.9937 - val_loss: 0.5756 - val_accuracy: 0.8969\n",
            "Epoch 19/30\n",
            "40/40 [==============================] - 213s 5s/step - loss: 0.0035 - accuracy: 0.9992 - val_loss: 0.5078 - val_accuracy: 0.8844\n",
            "Epoch 20/30\n",
            "40/40 [==============================] - 214s 5s/step - loss: 6.9618e-04 - accuracy: 1.0000 - val_loss: 0.6254 - val_accuracy: 0.9031\n",
            "Epoch 21/30\n",
            "40/40 [==============================] - 219s 5s/step - loss: 1.5912e-04 - accuracy: 1.0000 - val_loss: 0.6417 - val_accuracy: 0.9125\n",
            "Epoch 22/30\n",
            "40/40 [==============================] - 215s 5s/step - loss: 8.9897e-05 - accuracy: 1.0000 - val_loss: 0.6675 - val_accuracy: 0.9125\n",
            "Epoch 23/30\n",
            "40/40 [==============================] - 214s 5s/step - loss: 6.8074e-05 - accuracy: 1.0000 - val_loss: 0.6845 - val_accuracy: 0.9125\n",
            "Epoch 24/30\n",
            "40/40 [==============================] - 217s 5s/step - loss: 4.1768e-05 - accuracy: 1.0000 - val_loss: 0.7112 - val_accuracy: 0.9125\n",
            "Epoch 25/30\n",
            "40/40 [==============================] - 213s 5s/step - loss: 2.4628e-05 - accuracy: 1.0000 - val_loss: 0.7668 - val_accuracy: 0.9062\n",
            "Epoch 26/30\n",
            "40/40 [==============================] - 214s 5s/step - loss: 1.2758e-05 - accuracy: 1.0000 - val_loss: 0.8076 - val_accuracy: 0.9031\n",
            "Epoch 27/30\n",
            "40/40 [==============================] - 214s 5s/step - loss: 7.6954e-06 - accuracy: 1.0000 - val_loss: 0.8394 - val_accuracy: 0.9031\n",
            "Epoch 28/30\n",
            "40/40 [==============================] - 210s 5s/step - loss: 5.3676e-06 - accuracy: 1.0000 - val_loss: 0.8635 - val_accuracy: 0.9031\n",
            "Epoch 29/30\n",
            "40/40 [==============================] - 215s 5s/step - loss: 4.0006e-06 - accuracy: 1.0000 - val_loss: 0.8818 - val_accuracy: 0.9062\n",
            "Epoch 30/30\n",
            "40/40 [==============================] - 216s 5s/step - loss: 2.9990e-06 - accuracy: 1.0000 - val_loss: 0.9028 - val_accuracy: 0.9000\n"
          ]
        }
      ]
    },
    {
      "cell_type": "code",
      "source": [
        "import matplotlib.pyplot as plt\n",
        "\n",
        "plt.plot(history.history['accuracy'],color='red',label='train')\n",
        "plt.plot(history.history['val_accuracy'],color='blue',label='validation')\n",
        "plt.legend()\n",
        "plt.show()"
      ],
      "metadata": {
        "colab": {
          "base_uri": "https://localhost:8080/",
          "height": 430
        },
        "id": "e8n6IrgRtc7F",
        "outputId": "1353278d-83b6-4cb6-825e-6c3463839101"
      },
      "execution_count": 12,
      "outputs": [
        {
          "output_type": "display_data",
          "data": {
            "text/plain": [
              "<Figure size 640x480 with 1 Axes>"
            ],
            "image/png": "[encoded data removed]"
          },
          "metadata": {}
        }
      ]
    },
    {
      "cell_type": "code",
      "source": [
        "plt.plot(history.history['loss'],color='red',label='train')\n",
        "plt.plot(history.history['val_loss'],color='blue',label='validation')\n",
        "plt.legend()\n",
        "plt.show()"
      ],
      "metadata": {
        "colab": {
          "base_uri": "https://localhost:8080/",
          "height": 430
        },
        "id": "g2fVwh6htlOV",
        "outputId": "a26000fd-fe68-45d1-d147-b55b8e7547d1"
      },
      "execution_count": 13,
      "outputs": [
        {
          "output_type": "display_data",
          "data": {
            "text/plain": [
              "<Figure size 640x480 with 1 Axes>"
            ],
            "image/png": "[encoded data removed]"
          },
          "metadata": {}
        }
      ]
    },
    {
      "cell_type": "code",
      "source": [
        "test_datagen = ImageDataGenerator(rescale=1./255)\n",
        "test_data = test_datagen.flow_from_directory(\n",
        "    test_dir,\n",
        "    target_size=(256,256),\n",
        "    batch_size=32,\n",
        "    class_mode='binary'\n",
        ")"
      ],
      "metadata": {
        "colab": {
          "base_uri": "https://localhost:8080/"
        },
        "id": "W_6PKB-stpP8",
        "outputId": "d877d9d4-5a6a-4e6f-913a-d5e9fc6bfb86"
      },
      "execution_count": 14,
      "outputs": [
        {
          "output_type": "stream",
          "name": "stdout",
          "text": [
            "Found 15 images belonging to 2 classes.\n"
          ]
        }
      ]
    },
    {
      "cell_type": "code",
      "source": [
        "#predict the test data\n",
        "predictions = model.predict(test_data)\n",
        "print(predictions)"
      ],
      "metadata": {
        "colab": {
          "base_uri": "https://localhost:8080/"
        },
        "id": "yDhIdHsYt1Ja",
        "outputId": "d8b18507-72ee-4536-f475-adb712dd2a6f"
      },
      "execution_count": 15,
      "outputs": [
        {
          "output_type": "stream",
          "name": "stdout",
          "text": [
            "1/1 [==============================] - 1s 821ms/step\n",
            "[[2.2814955e-11]\n",
            " [2.9415696e-07]\n",
            " [1.7109900e-13]\n",
            " [4.0763147e-15]\n",
            " [1.0000000e+00]\n",
            " [1.6669264e-17]\n",
            " [9.2641747e-04]\n",
            " [5.4512913e-03]\n",
            " [6.2184459e-12]\n",
            " [1.0539121e-08]\n",
            " [5.2199174e-14]\n",
            " [8.3019799e-03]\n",
            " [9.9999642e-01]\n",
            " [8.7498164e-01]\n",
            " [9.9999571e-01]]\n"
          ]
        }
      ]
    },
    {
      "cell_type": "code",
      "source": [
        "len(predictions)"
      ],
      "metadata": {
        "colab": {
          "base_uri": "https://localhost:8080/"
        },
        "id": "-CFCS4Yjt-Ck",
        "outputId": "3d159e01-5f31-4b9a-92c6-4e43dcbb0eca"
      },
      "execution_count": 16,
      "outputs": [
        {
          "output_type": "execute_result",
          "data": {
            "text/plain": [
              "15"
            ]
          },
          "metadata": {},
          "execution_count": 16
        }
      ]
    },
    {
      "cell_type": "code",
      "source": [
        "from sklearn.metrics import confusion_matrix, classification_report\n",
        "\n",
        "# Assuming you have ground truth labels (true_labels) and predicted labels (predictions)\n",
        "true_labels = test_data.classes\n",
        "predicted_labels = (predictions > 0.5).astype(int)  # Adjust the threshold as needed\n",
        "\n",
        "# Calculate confusion matrix\n",
        "cm = confusion_matrix(true_labels, predicted_labels)\n",
        "\n",
        "# Print confusion matrix\n",
        "print(\"Confusion Matrix:\")\n",
        "print(cm)\n",
        "\n",
        "# Print classification report\n",
        "print(\"Classification Report:\")\n",
        "print(classification_report(true_labels, predicted_labels))"
      ],
      "metadata": {
        "colab": {
          "base_uri": "https://localhost:8080/"
        },
        "id": "HmBXmmG7uH3D",
        "outputId": "c8c04628-a0bd-4609-d452-1332e8a59747"
      },
      "execution_count": 17,
      "outputs": [
        {
          "output_type": "stream",
          "name": "stdout",
          "text": [
            "Confusion Matrix:\n",
            "[[9 1]\n",
            " [2 3]]\n",
            "Classification Report:\n",
            "              precision    recall  f1-score   support\n",
            "\n",
            "           0       0.82      0.90      0.86        10\n",
            "           1       0.75      0.60      0.67         5\n",
            "\n",
            "    accuracy                           0.80        15\n",
            "   macro avg       0.78      0.75      0.76        15\n",
            "weighted avg       0.80      0.80      0.79        15\n",
            "\n"
          ]
        }
      ]
    },
    {
      "cell_type": "code",
      "source": [
        "#My dataset is available in googledrive; so I am accessing my drive from colab\n",
        "from google.colab import drive\n",
        "drive.mount('/content/drive', force_remount=True)\n",
        "#Once this is executed, you will see your drive appearing on the left hand side"
      ],
      "metadata": {
        "colab": {
          "base_uri": "https://localhost:8080/"
        },
        "id": "irhNvD_XxGIq",
        "outputId": "67c59334-ba23-4f59-8cae-a5026dbfe39b"
      },
      "execution_count": 18,
      "outputs": [
        {
          "output_type": "stream",
          "name": "stdout",
          "text": [
            "Mounted at /content/drive\n"
          ]
        }
      ]
    },
    {
      "cell_type": "code",
      "source": [
        "# Define paths to the dataset\n",
        "train_dir = '//content/drive/MyDrive/train-cat-rabbit'  # Update with your actual path\n",
        "test_dir = '//content/drive/MyDrive/test-images'    # Update with your actual path"
      ],
      "metadata": {
        "id": "eoXNdHujxhlg"
      },
      "execution_count": 19,
      "outputs": []
    },
    {
      "cell_type": "code",
      "source": [
        "import os\n",
        "print(len(os.listdir('//content/drive/MyDrive/train-cat-rabbit/cat')))\n",
        "print(len(os.listdir('//content/drive/MyDrive/train-cat-rabbit/rabbit')))\n",
        "print(len(os.listdir('//content/drive/MyDrive/test-images/cat')))\n",
        "print(len(os.listdir('//content/drive/MyDrive/test-images/rabbit')))"
      ],
      "metadata": {
        "colab": {
          "base_uri": "https://localhost:8080/"
        },
        "id": "mzTUpntFx5z0",
        "outputId": "3d6b1195-7151-4c79-9e60-d237acdc5733"
      },
      "execution_count": 20,
      "outputs": [
        {
          "output_type": "stream",
          "name": "stdout",
          "text": [
            "800\n",
            "800\n",
            "10\n",
            "5\n"
          ]
        }
      ]
    },
    {
      "cell_type": "code",
      "source": [
        "import tensorflow as tf\n",
        "from tensorflow.keras.preprocessing.image import ImageDataGenerator\n",
        "\n",
        "# Create ImageDataGenerator for training set\n",
        "train_datagen = ImageDataGenerator(\n",
        "    rescale=1./255,\n",
        "    validation_split=0.2  # Split 20% of the images for validation\n",
        ")\n",
        "\n",
        "# Load and prepare training data\n",
        "train_data = train_datagen.flow_from_directory(\n",
        "    train_dir,\n",
        "    target_size=(256,256),\n",
        "    batch_size=32,\n",
        "    class_mode='binary',  # 'binary' for binary classification (cats vs. dogs)\n",
        "    subset='training'  # Specify 'training' for the training set\n",
        ")\n",
        "\n",
        "# Create ImageDataGenerator for validation set\n",
        "validation_datagen = ImageDataGenerator(\n",
        "    rescale=1./255,\n",
        "    validation_split=0.2  # Note: Using the same validation split as in the training set\n",
        ")\n",
        "\n",
        "# Load and prepare validation data\n",
        "validation_data = validation_datagen.flow_from_directory(\n",
        "    train_dir,\n",
        "    target_size=(256,256),\n",
        "    batch_size=32,\n",
        "    class_mode='binary',\n",
        "    subset='validation'  # Specify 'validation' for the validation set\n",
        ")"
      ],
      "metadata": {
        "colab": {
          "base_uri": "https://localhost:8080/"
        },
        "id": "VevFpSH7x81V",
        "outputId": "480e651c-2e4b-4497-bb13-b80e82bcc6c6"
      },
      "execution_count": 21,
      "outputs": [
        {
          "output_type": "stream",
          "name": "stdout",
          "text": [
            "Found 1280 images belonging to 2 classes.\n",
            "Found 320 images belonging to 2 classes.\n"
          ]
        }
      ]
    },
    {
      "cell_type": "code",
      "source": [
        "from tensorflow import keras\n",
        "from keras import Sequential\n",
        "from keras.layers import Dense,Conv2D,MaxPooling2D,Flatten\n",
        "\n",
        "resnet_model = Sequential()    #ResNet50 is a pre-trained model\n",
        "pretrained_model = tf.keras.applications.ResNet50(include_top = False, #because i have my own image of a diff dimension\n",
        "                                                input_shape = (256,256,3),\n",
        "                                                pooling = 'max', classes = 2,\n",
        "                                                weights = 'imagenet')\n",
        "for layer in pretrained_model.layers:\n",
        "    layer.trainable = False  #all layers in the Resnet50 is not trainable; keep those weights; I am going to add my own i/p and other layers\n",
        "\n",
        "resnet_model.add(pretrained_model)\n",
        "resnet_model.add(Flatten())\n",
        "resnet_model.add(Dense(512, activation = 'relu'))\n",
        "resnet_model.add(Dense(1, activation = 'sigmoid'))"
      ],
      "metadata": {
        "colab": {
          "base_uri": "https://localhost:8080/"
        },
        "id": "OMRu5lAcyXyQ",
        "outputId": "b09c741b-106c-43b0-c258-8c3e35f716bf"
      },
      "execution_count": 22,
      "outputs": [
        {
          "output_type": "stream",
          "name": "stdout",
          "text": [
            "Downloading data from https://storage.googleapis.com/tensorflow/keras-applications/resnet/resnet50_weights_tf_dim_ordering_tf_kernels_notop.h5\n",
            "94765736/94765736 [==============================] - 1s 0us/step\n"
          ]
        }
      ]
    },
    {
      "cell_type": "code",
      "source": [
        "resnet_model.summary()"
      ],
      "metadata": {
        "colab": {
          "base_uri": "https://localhost:8080/"
        },
        "id": "t7WCULyKyn8F",
        "outputId": "243e4ece-cc58-4927-f8eb-33555940cd71"
      },
      "execution_count": 23,
      "outputs": [
        {
          "output_type": "stream",
          "name": "stdout",
          "text": [
            "Model: \"sequential_1\"\n",
            "_________________________________________________________________\n",
            " Layer (type)                Output Shape              Param #   \n",
            "=================================================================\n",
            " resnet50 (Functional)       (None, 2048)              23587712  \n",
            "                                                                 \n",
            " flatten_1 (Flatten)         (None, 2048)              0         \n",
            "                                                                 \n",
            " dense_3 (Dense)             (None, 512)               1049088   \n",
            "                                                                 \n",
            " dense_4 (Dense)             (None, 1)                 513       \n",
            "                                                                 \n",
            "=================================================================\n",
            "Total params: 24637313 (93.98 MB)\n",
            "Trainable params: 1049601 (4.00 MB)\n",
            "Non-trainable params: 23587712 (89.98 MB)\n",
            "_________________________________________________________________\n"
          ]
        }
      ]
    },
    {
      "cell_type": "code",
      "source": [
        "from keras.optimizers import Adam\n",
        "resnet_model.compile(optimizer=Adam(learning_rate=0.001),loss='binary_crossentropy',metrics=['accuracy']) #binary_crossentropy - binary classification"
      ],
      "metadata": {
        "id": "xIo7oCueyrJw"
      },
      "execution_count": 25,
      "outputs": []
    },
    {
      "cell_type": "code",
      "source": [
        "history = resnet_model.fit(train_data, epochs=3, validation_data=validation_data)"
      ],
      "metadata": {
        "colab": {
          "base_uri": "https://localhost:8080/"
        },
        "id": "16Q0kMvUy7IT",
        "outputId": "21925503-b34b-4c1b-8134-92fd29318a56"
      },
      "execution_count": 26,
      "outputs": [
        {
          "output_type": "stream",
          "name": "stdout",
          "text": [
            "Epoch 1/3\n",
            "40/40 [==============================] - 524s 13s/step - loss: 1.7951 - accuracy: 0.5289 - val_loss: 0.6431 - val_accuracy: 0.6344\n",
            "Epoch 2/3\n",
            "40/40 [==============================] - 514s 13s/step - loss: 0.6620 - accuracy: 0.6148 - val_loss: 0.6069 - val_accuracy: 0.6344\n",
            "Epoch 3/3\n",
            "40/40 [==============================] - 467s 12s/step - loss: 0.6391 - accuracy: 0.6500 - val_loss: 0.5911 - val_accuracy: 0.6469\n"
          ]
        }
      ]
    },
    {
      "cell_type": "code",
      "source": [
        "import matplotlib.pyplot as plt\n",
        "\n",
        "plt.plot(history.history['accuracy'],color='red',label='train')\n",
        "plt.plot(history.history['val_accuracy'],color='blue',label='validation')\n",
        "plt.legend()\n",
        "plt.show()"
      ],
      "metadata": {
        "colab": {
          "base_uri": "https://localhost:8080/",
          "height": 430
        },
        "id": "umurgraK5dpe",
        "outputId": "21cfef6f-ec82-47a9-f3b1-9db286182cee"
      },
      "execution_count": 27,
      "outputs": [
        {
          "output_type": "display_data",
          "data": {
            "text/plain": [
              "<Figure size 640x480 with 1 Axes>"
            ],
            "image/png": "[encoded data removed]"
          },
          "metadata": {}
        }
      ]
    },
    {
      "cell_type": "code",
      "source": [
        "plt.plot(history.history['loss'],color='red',label='train')\n",
        "plt.plot(history.history['val_loss'],color='blue',label='validation')\n",
        "plt.legend()\n",
        "plt.show()"
      ],
      "metadata": {
        "colab": {
          "base_uri": "https://localhost:8080/",
          "height": 430
        },
        "id": "qYgnfQ6R5xYY",
        "outputId": "43e5011e-fab3-4b66-e06d-8cecef172f2d"
      },
      "execution_count": 28,
      "outputs": [
        {
          "output_type": "display_data",
          "data": {
            "text/plain": [
              "<Figure size 640x480 with 1 Axes>"
            ],
            "image/png": "[encoded data removed]"
          },
          "metadata": {}
        }
      ]
    },
    {
      "cell_type": "code",
      "source": [
        "test_datagen = ImageDataGenerator(rescale=1./255)\n",
        "test_data = test_datagen.flow_from_directory(\n",
        "    test_dir,\n",
        "    target_size=(256,256),\n",
        "    batch_size=32,\n",
        "    class_mode='binary'\n",
        ")"
      ],
      "metadata": {
        "colab": {
          "base_uri": "https://localhost:8080/"
        },
        "id": "zcUGxbPl6MWK",
        "outputId": "158ce479-c9ee-4eb6-a1f9-b1b75a2360fe"
      },
      "execution_count": 29,
      "outputs": [
        {
          "output_type": "stream",
          "name": "stdout",
          "text": [
            "Found 15 images belonging to 2 classes.\n"
          ]
        }
      ]
    },
    {
      "cell_type": "code",
      "source": [
        "#predict the test data\n",
        "predictions = resnet_model.predict(test_data)\n",
        "print(predictions)"
      ],
      "metadata": {
        "colab": {
          "base_uri": "https://localhost:8080/"
        },
        "id": "B8hc4nEm6QeC",
        "outputId": "c19b9ec4-a400-4e6e-99f5-dc90b3e1fb9f"
      },
      "execution_count": 30,
      "outputs": [
        {
          "output_type": "stream",
          "name": "stdout",
          "text": [
            "1/1 [==============================] - 5s 5s/step\n",
            "[[0.39565745]\n",
            " [0.18628736]\n",
            " [0.72913325]\n",
            " [0.53094596]\n",
            " [0.3009688 ]\n",
            " [0.1877957 ]\n",
            " [0.5069696 ]\n",
            " [0.21034844]\n",
            " [0.28867483]\n",
            " [0.14596692]\n",
            " [0.32438934]\n",
            " [0.18865421]\n",
            " [0.21922271]\n",
            " [0.88978726]\n",
            " [0.4741578 ]]\n"
          ]
        }
      ]
    },
    {
      "cell_type": "code",
      "source": [
        "len(predictions)"
      ],
      "metadata": {
        "colab": {
          "base_uri": "https://localhost:8080/"
        },
        "id": "PcV_YsSq6vSi",
        "outputId": "4b0a580d-6d67-4af8-abe8-55235215fd51"
      },
      "execution_count": 31,
      "outputs": [
        {
          "output_type": "execute_result",
          "data": {
            "text/plain": [
              "15"
            ]
          },
          "metadata": {},
          "execution_count": 31
        }
      ]
    },
    {
      "cell_type": "code",
      "source": [
        "from sklearn.metrics import confusion_matrix, classification_report\n",
        "\n",
        "# Assuming you have ground truth labels (true_labels) and predicted labels (predictions)\n",
        "true_labels = test_data.classes\n",
        "predicted_labels = (predictions > 0.5).astype(int)  # Adjust the threshold as needed\n",
        "\n",
        "# Calculate confusion matrix\n",
        "cm = confusion_matrix(true_labels, predicted_labels)\n",
        "\n",
        "# Print confusion matrix\n",
        "print(\"Confusion Matrix:\")\n",
        "print(cm)\n",
        "\n",
        "# Print classification report\n",
        "print(\"Classification Report:\")\n",
        "print(classification_report(true_labels, predicted_labels))"
      ],
      "metadata": {
        "colab": {
          "base_uri": "https://localhost:8080/"
        },
        "id": "iFC4t_p966-g",
        "outputId": "a928ca26-31c7-4417-e91b-362d847bb917"
      },
      "execution_count": 32,
      "outputs": [
        {
          "output_type": "stream",
          "name": "stdout",
          "text": [
            "Confusion Matrix:\n",
            "[[7 3]\n",
            " [4 1]]\n",
            "Classification Report:\n",
            "              precision    recall  f1-score   support\n",
            "\n",
            "           0       0.64      0.70      0.67        10\n",
            "           1       0.25      0.20      0.22         5\n",
            "\n",
            "    accuracy                           0.53        15\n",
            "   macro avg       0.44      0.45      0.44        15\n",
            "weighted avg       0.51      0.53      0.52        15\n",
            "\n"
          ]
        }
      ]
    }
  ]
}